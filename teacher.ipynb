{
 "cells": [
  {
   "cell_type": "code",
   "execution_count": 3,
   "metadata": {},
   "outputs": [],
   "source": [
    "# 하루데이터 가져오기!\n",
    "# import requests\n",
    "\n",
    "# key = 'be6c0656aec5f0b56e8df3a60083abfd'\n",
    "# url = 'http://www.kobis.or.kr/kobisopenapi/webservice/rest/boxoffice/searchWeeklyBoxOfficeList.json'\n",
    "# movie_url = f'{url}?key={key}&targetDt=20190713&weekGb=0'\n",
    "\n",
    "# res = requests.get(movie_url).json()"
   ]
  },
  {
   "cell_type": "code",
   "execution_count": 5,
   "metadata": {},
   "outputs": [
    {
     "name": "stdout",
     "output_type": "stream",
     "text": [
      "[{'rnum': '1', 'rank': '1', 'rankInten': '0', 'rankOldAndNew': 'OLD', 'movieCd': '20196309', 'movieNm': '스파이더맨: 파 프롬 홈', 'openDt': '2019-07-02', 'salesAmt': '18704459230', 'salesShare': '50.6', 'salesInten': '-20291831880', 'salesChange': '-52.0', 'salesAcc': '57709310340', 'audiCnt': '2163519', 'audiInten': '-2357242', 'audiChange': '-52.1', 'audiAcc': '6685136', 'scrnCnt': '1900', 'showCnt': '61772'}, {'rnum': '2', 'rank': '2', 'rankInten': '0', 'rankOldAndNew': 'OLD', 'movieCd': '20183867', 'movieNm': '알라딘', 'openDt': '2019-05-23', 'salesAmt': '8048673260', 'salesShare': '21.8', 'salesInten': '-404620', 'salesChange': '0.0', 'salesAcc': '86703804479', 'audiCnt': '938600', 'audiInten': '-12275', 'audiChange': '-1.3', 'audiAcc': '10161231', 'scrnCnt': '975', 'showCnt': '20260'}, {'rnum': '3', 'rank': '3', 'rankInten': '0', 'rankOldAndNew': 'OLD', 'movieCd': '20184047', 'movieNm': '토이 스토리 4', 'openDt': '2019-06-20', 'salesAmt': '3062666940', 'salesShare': '8.3', 'salesInten': '-1341556620', 'salesChange': '-30.5', 'salesAcc': '26720315850', 'audiCnt': '367361', 'audiInten': '-165507', 'audiChange': '-31.1', 'audiAcc': '3151060', 'scrnCnt': '784', 'showCnt': '11025'}, {'rnum': '4', 'rank': '4', 'rankInten': '18', 'rankOldAndNew': 'OLD', 'movieCd': '20185353', 'movieNm': '기방도령', 'openDt': '2019-07-10', 'salesAmt': '1790462140', 'salesShare': '4.8', 'salesInten': '1767296140', 'salesChange': '7628.8', 'salesAcc': '1816098140', 'audiCnt': '217361', 'audiInten': '214787', 'audiChange': '8344.5', 'audiAcc': '220182', 'scrnCnt': '625', 'showCnt': '10844'}, {'rnum': '5', 'rank': '5', 'rankInten': '-1', 'rankOldAndNew': 'OLD', 'movieCd': '20183782', 'movieNm': '기생충', 'openDt': '2019-05-30', 'salesAmt': '1097073240', 'salesShare': '3.0', 'salesInten': '-559773060', 'salesChange': '-33.8', 'salesAcc': '84601476725', 'audiCnt': '145529', 'audiInten': '-52264', 'audiChange': '-26.4', 'audiAcc': '9919835', 'scrnCnt': '488', 'showCnt': '5305'}, {'rnum': '6', 'rank': '6', 'rankInten': '55', 'rankOldAndNew': 'OLD', 'movieCd': '20185986', 'movieNm': '진범', 'openDt': '2019-07-10', 'salesAmt': '913786600', 'salesShare': '2.5', 'salesInten': '911140600', 'salesChange': '34434.6', 'salesAcc': '922196600', 'audiCnt': '105676', 'audiInten': '105382', 'audiChange': '35844.2', 'audiAcc': '106756', 'scrnCnt': '224', 'showCnt': '4230'}, {'rnum': '7', 'rank': '7', 'rankInten': '20', 'rankOldAndNew': 'OLD', 'movieCd': '20191601', 'movieNm': '극장판 엉덩이 탐정: 화려한 사건 수첩', 'openDt': '2019-07-11', 'salesAmt': '801143520', 'salesShare': '2.2', 'salesInten': '790424520', 'salesChange': '7374.1', 'salesAcc': '811862520', 'audiCnt': '100054', 'audiInten': '98863', 'audiChange': '8300.8', 'audiAcc': '101245', 'scrnCnt': '561', 'showCnt': '3049'}, {'rnum': '8', 'rank': '8', 'rankInten': '-2', 'rankOldAndNew': 'OLD', 'movieCd': '20199951', 'movieNm': '애나벨 집으로', 'openDt': '2019-06-26', 'salesAmt': '495955050', 'salesShare': '1.3', 'salesInten': '-378757240', 'salesChange': '-43.3', 'salesAcc': '3809833030', 'audiCnt': '60543', 'audiInten': '-46623', 'audiChange': '-43.5', 'audiAcc': '459037', 'scrnCnt': '262', 'showCnt': '2182'}, {'rnum': '9', 'rank': '9', 'rankInten': '-4', 'rankOldAndNew': 'OLD', 'movieCd': '20196655', 'movieNm': '존 윅 3: 파라벨룸', 'openDt': '2019-06-26', 'salesAmt': '508652710', 'salesShare': '1.4', 'salesInten': '-999850840', 'salesChange': '-66.3', 'salesAcc': '7802546702', 'audiCnt': '59459', 'audiInten': '-118348', 'audiChange': '-66.6', 'audiAcc': '913066', 'scrnCnt': '495', 'showCnt': '3404'}, {'rnum': '10', 'rank': '10', 'rankInten': '37', 'rankOldAndNew': 'OLD', 'movieCd': '20192151', 'movieNm': '미드소마', 'openDt': '2019-07-11', 'salesAmt': '422374980', 'salesShare': '1.1', 'salesInten': '417380480', 'salesChange': '8356.8', 'salesAcc': '427369480', 'audiCnt': '45182', 'audiInten': '44657', 'audiChange': '8506.1', 'audiAcc': '45707', 'scrnCnt': '388', 'showCnt': '2697'}]\n"
     ]
    }
   ],
   "source": [
    "# 구조 확인하기\n",
    "\n",
    "# print(res['boxOfficeResult']['weeklyBoxOfficeList'])"
   ]
  },
  {
   "cell_type": "code",
   "execution_count": null,
   "metadata": {},
   "outputs": [],
   "source": [
    "# 내가 원하는 데이터 뽑아오기\n",
    "\n",
    "# 리스트는 일련의 데이터를 보여주기 할때는 좋음\n",
    "# 딕셔녀리가 데이터를 수정하고 다루는데 좋음\n",
    "# for i in range(10):\n",
    "#     movieCd = res['boxOfficeResult']['weeklyBoxOfficeList'][i]['movieCd']\n",
    "#     movieNm = res['boxOfficeResult']['weeklyBoxOfficeList'][i]['movieNm']\n",
    "#     audiAcc = int(res['boxOfficeResult']['weeklyBoxOfficeList'][i]['audiAcc']\n"
   ]
  },
  {
   "cell_type": "code",
   "execution_count": 7,
   "metadata": {},
   "outputs": [
    {
     "name": "stdout",
     "output_type": "stream",
     "text": [
      "{'20196309': {'movieCd': '20196309', 'movieNm': '스파이더맨: 파 프롬 홈', 'audiAcc': '6685136'}, '20183867': {'movieCd': '20183867', 'movieNm': '알라딘', 'audiAcc': '10161231'}, '20184047': {'movieCd': '20184047', 'movieNm': '토이 스토리 4', 'audiAcc': '3151060'}, '20185353': {'movieCd': '20185353', 'movieNm': '기방도령', 'audiAcc': '220182'}, '20183782': {'movieCd': '20183782', 'movieNm': '기생충', 'audiAcc': '9919835'}, '20185986': {'movieCd': '20185986', 'movieNm': '진범', 'audiAcc': '106756'}, '20191601': {'movieCd': '20191601', 'movieNm': '극장판 엉덩이 탐정: 화려한 사건 수첩', 'audiAcc': '101245'}, '20199951': {'movieCd': '20199951', 'movieNm': '애나벨 집으로', 'audiAcc': '459037'}, '20196655': {'movieCd': '20196655', 'movieNm': '존 윅 3: 파라벨룸', 'audiAcc': '913066'}, '20192151': {'movieCd': '20192151', 'movieNm': '미드소마', 'audiAcc': '45707'}}\n"
     ]
    }
   ],
   "source": [
    "# 딕셔너리로 만들기\n",
    "\n",
    "\n",
    "# box_office_list = res['boxOfficeResult']['weeklyBoxOfficeList']\n",
    "# for movie in box_office_list:\n",
    "    \n",
    "#     # movieCd에 있는 데이터를 가져와서 movie_dict의 키값으로 사용\n",
    "#     movie_dict[movie['movieCd']] = {\n",
    "#         'movieCd': movie['movieCd'],\n",
    "#         'movieNm': movie['movieNm'],\n",
    "#         'audiAcc': movie['audiAcc'],\n",
    "#     }\n",
    "# print(movie_dict)\n",
    "\n",
    "    "
   ]
  },
  {
   "cell_type": "code",
   "execution_count": 4,
   "metadata": {},
   "outputs": [
    {
     "ename": "IndentationError",
     "evalue": "unindent does not match any outer indentation level (<tokenize>, line 24)",
     "output_type": "error",
     "traceback": [
      "\u001b[1;36m  File \u001b[1;32m\"<tokenize>\"\u001b[1;36m, line \u001b[1;32m24\u001b[0m\n\u001b[1;33m    }\u001b[0m\n\u001b[1;37m    ^\u001b[0m\n\u001b[1;31mIndentationError\u001b[0m\u001b[1;31m:\u001b[0m unindent does not match any outer indentation level\n"
     ]
    }
   ],
   "source": [
    "# 날짜 늘리기\n",
    "import requests\n",
    "import datetime\n",
    "\n",
    "movie_dict = {}\n",
    "for i in range(5):\n",
    "    targetDt = datetime.datetime(2019, 7, 13) - datetime.timedelta(weeks=i)\n",
    "    targetDt = targetDt.strftime('%Y%m%d'))\n",
    "    key = 'be6c0656aec5f0b56e8df3a60083abfd'\n",
    "    url = 'http://www.kobis.or.kr/kobisopenapi/webservice/rest/boxoffice/searchWeeklyBoxOfficeList.json'\n",
    "    movie_url = f'{url}?key={key}&targetDt=20190713&weekGb=0'\n",
    "    \n",
    "    res = requests.get(movie_url).json()\n",
    "    \n",
    "    box_office_list = res['boxOfficeResult']['weeklyBoxOfficeList']\n",
    "    \n",
    "    for movie in box_office_list:\n",
    "    \n",
    "        # movieCd에 있는 데이터를 가져와서 movie_dict의 키값으로 사용\n",
    "        movie_dict[movie['movieCd']] = {\n",
    "            'movieCd': movie['movieCd'],\n",
    "            'movieNm': movie['movieNm'],\n",
    "            'audiAcc': movie['audiAcc']\n",
    "        }\n",
    "print(movie_dict)"
   ]
  },
  {
   "cell_type": "code",
   "execution_count": null,
   "metadata": {},
   "outputs": [],
   "source": [
    "import csv\n",
    "with open('boxoffice.csv', 'w', newline = '', encoding = 'utf-8')as f:\n",
    "    fieldnames = ('movieCd', 'movieNm', 'audiAcc')\n",
    "    csv_writer = csv.Dict\\writer(f, fieldnames=fieldnames)\n",
    "    csv_writer.writeheader()\n",
    "    for movie in movie_dict.values():\n",
    "        csv.writer.writerow(movie)"
   ]
  }
 ],
 "metadata": {
  "kernelspec": {
   "display_name": "Python 3",
   "language": "python",
   "name": "python3"
  }
 },
 "nbformat": 4,
 "nbformat_minor": 2
}
