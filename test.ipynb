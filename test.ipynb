{
 "cells": [
  {
   "cell_type": "code",
   "execution_count": 6,
   "metadata": {},
   "outputs": [
    {
     "name": "stdout",
     "output_type": "stream",
     "text": [
      "52479\n"
     ]
    }
   ],
   "source": [
    "def num(num1, num2):\n",
    "    if num1 > num2 :\n",
    "        high_num = num1\n",
    "    else :\n",
    "        high_num = num2\n",
    "\n",
    "    while True:\n",
    "        if high_num % num1 == 0 and high_num % num2 == 0 :\n",
    "            return high_num\n",
    "        high_num += 1\n",
    "\n",
    "print(num(1071, 1029))"
   ]
  }
 ],
 "metadata": {
  "kernelspec": {
   "display_name": "Python 3",
   "language": "python",
   "name": "python3"
  },
  "language_info": {
   "codemirror_mode": {
    "name": "ipython",
    "version": 3
   },
   "file_extension": ".py",
   "mimetype": "text/x-python",
   "name": "python",
   "nbconvert_exporter": "python",
   "pygments_lexer": "ipython3",
   "version": "3.7.3"
  }
 },
 "nbformat": 4,
 "nbformat_minor": 2
}
